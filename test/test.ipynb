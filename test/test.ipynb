{
 "cells": [
  {
   "cell_type": "code",
   "execution_count": 96,
   "metadata": {},
   "outputs": [],
   "source": [
    "import scipy.io as sio"
   ]
  },
  {
   "cell_type": "code",
   "execution_count": 97,
   "metadata": {},
   "outputs": [],
   "source": [
    "\n",
    "data_mat = sio.loadmat('/home/yanggaoming/GraphAnomalyDectionBenchmarking/data/ACM.mat')"
   ]
  },
  {
   "cell_type": "code",
   "execution_count": 98,
   "metadata": {},
   "outputs": [
    {
     "data": {
      "text/plain": [
       "{'__header__': b'MATLAB 5.0 MAT-file Platform: posix, Created on: Fri Oct  5 11:09:39 2018',\n",
       " '__version__': '1.0',\n",
       " '__globals__': [],\n",
       " 'Network': <16484x16484 sparse matrix of type '<class 'numpy.float64'>'\n",
       " \twith 164350 stored elements in Compressed Sparse Column format>,\n",
       " 'Label': array([[0],\n",
       "        [0],\n",
       "        [0],\n",
       "        ...,\n",
       "        [0],\n",
       "        [0],\n",
       "        [0]]),\n",
       " 'Attributes': <16484x8337 sparse matrix of type '<class 'numpy.float64'>'\n",
       " \twith 475498 stored elements in Compressed Sparse Column format>,\n",
       " 'Class': array([[1],\n",
       "        [6],\n",
       "        [1],\n",
       "        ...,\n",
       "        [3],\n",
       "        [2],\n",
       "        [3]])}"
      ]
     },
     "execution_count": 98,
     "metadata": {},
     "output_type": "execute_result"
    }
   ],
   "source": [
    "data_mat"
   ]
  },
  {
   "cell_type": "code",
   "execution_count": null,
   "metadata": {},
   "outputs": [],
   "source": []
  }
 ],
 "metadata": {
  "language_info": {
   "name": "python"
  },
  "orig_nbformat": 4
 },
 "nbformat": 4,
 "nbformat_minor": 2
}
