{
 "metadata": {
  "language_info": {
   "codemirror_mode": {
    "name": "ipython",
    "version": 3
   },
   "file_extension": ".py",
   "mimetype": "text/x-python",
   "name": "python",
   "nbconvert_exporter": "python",
   "pygments_lexer": "ipython3",
   "version": "3.8.0-final"
  },
  "orig_nbformat": 2,
  "kernelspec": {
   "name": "python3",
   "display_name": "Python 3.8.0 64-bit ('GND': conda)",
   "metadata": {
    "interpreter": {
     "hash": "1083bfdc57ac1f75327d13656e2d0dd00a35892eb651afd09f080653624fff97"
    }
   }
  }
 },
 "nbformat": 4,
 "nbformat_minor": 2,
 "cells": [
  {
   "cell_type": "code",
   "execution_count": 6,
   "metadata": {},
   "outputs": [],
   "source": [
    "import pandas as pd\n",
    "import numpy as np \n",
    "from matplotlib import pyplot as plt \n",
    "import seaborn as sns\n",
    "%matplotlib inline\n"
   ]
  },
  {
   "cell_type": "code",
   "execution_count": 2,
   "metadata": {},
   "outputs": [
    {
     "output_type": "execute_result",
     "data": {
      "text/plain": [
       "  dataset  tau       auc\n",
       "0    Cora  0.1  0.862419\n",
       "1    Cora  0.2  0.884477\n",
       "2    Cora  0.3  0.889500\n",
       "3    Cora  0.5  0.896211\n",
       "4    Cora  0.6  0.902377"
      ],
      "text/html": "<div>\n<style scoped>\n    .dataframe tbody tr th:only-of-type {\n        vertical-align: middle;\n    }\n\n    .dataframe tbody tr th {\n        vertical-align: top;\n    }\n\n    .dataframe thead th {\n        text-align: right;\n    }\n</style>\n<table border=\"1\" class=\"dataframe\">\n  <thead>\n    <tr style=\"text-align: right;\">\n      <th></th>\n      <th>dataset</th>\n      <th>tau</th>\n      <th>auc</th>\n    </tr>\n  </thead>\n  <tbody>\n    <tr>\n      <th>0</th>\n      <td>Cora</td>\n      <td>0.1</td>\n      <td>0.862419</td>\n    </tr>\n    <tr>\n      <th>1</th>\n      <td>Cora</td>\n      <td>0.2</td>\n      <td>0.884477</td>\n    </tr>\n    <tr>\n      <th>2</th>\n      <td>Cora</td>\n      <td>0.3</td>\n      <td>0.889500</td>\n    </tr>\n    <tr>\n      <th>3</th>\n      <td>Cora</td>\n      <td>0.5</td>\n      <td>0.896211</td>\n    </tr>\n    <tr>\n      <th>4</th>\n      <td>Cora</td>\n      <td>0.6</td>\n      <td>0.902377</td>\n    </tr>\n  </tbody>\n</table>\n</div>"
     },
     "metadata": {},
     "execution_count": 2
    }
   ],
   "source": []
  },
  {
   "cell_type": "code",
   "execution_count": 7,
   "metadata": {},
   "outputs": [],
   "source": [
    "# help(sns.lineplot)"
   ]
  },
  {
   "cell_type": "code",
   "execution_count": 8,
   "metadata": {},
   "outputs": [],
   "source": [
    "\n",
    "data = pd.read_csv(\"MI.csv\")"
   ]
  },
  {
   "cell_type": "code",
   "execution_count": 9,
   "metadata": {},
   "outputs": [
    {
     "output_type": "error",
     "ename": "AttributeError",
     "evalue": "'AxesSubplot' object has no attribute 'set_legend'",
     "traceback": [
      "\u001b[0;31m---------------------------------------------------------------------------\u001b[0m",
      "\u001b[0;31mAttributeError\u001b[0m                            Traceback (most recent call last)",
      "Input \u001b[0;32mIn [9]\u001b[0m, in \u001b[0;36m<cell line: 9>\u001b[0;34m()\u001b[0m\n\u001b[1;32m      7\u001b[0m ax\u001b[38;5;241m.\u001b[39mset_xlabel(\u001b[38;5;124m\"\u001b[39m\u001b[38;5;124mDataset\u001b[39m\u001b[38;5;124m\"\u001b[39m, fontsize \u001b[38;5;241m=\u001b[39m \u001b[38;5;241m15\u001b[39m, fontweight\u001b[38;5;241m=\u001b[39m\u001b[38;5;124m'\u001b[39m\u001b[38;5;124mbold\u001b[39m\u001b[38;5;124m'\u001b[39m)\n\u001b[1;32m      8\u001b[0m ax\u001b[38;5;241m.\u001b[39mset_ylabel(\u001b[38;5;124m\"\u001b[39m\u001b[38;5;124mMI\u001b[39m\u001b[38;5;124m\"\u001b[39m, fontsize \u001b[38;5;241m=\u001b[39m \u001b[38;5;241m15\u001b[39m, fontweight\u001b[38;5;241m=\u001b[39m\u001b[38;5;124m'\u001b[39m\u001b[38;5;124mbold\u001b[39m\u001b[38;5;124m'\u001b[39m)\n\u001b[0;32m----> 9\u001b[0m \u001b[43max\u001b[49m\u001b[38;5;241;43m.\u001b[39;49m\u001b[43mset_legend\u001b[49m(\u001b[38;5;124m\"\u001b[39m\u001b[38;5;124mMI\u001b[39m\u001b[38;5;124m\"\u001b[39m, fontsize \u001b[38;5;241m=\u001b[39m \u001b[38;5;241m15\u001b[39m, fontweight\u001b[38;5;241m=\u001b[39m\u001b[38;5;124m'\u001b[39m\u001b[38;5;124mbold\u001b[39m\u001b[38;5;124m'\u001b[39m)\n\u001b[1;32m     11\u001b[0m plt\u001b[38;5;241m.\u001b[39msavefig(\u001b[38;5;124m\"\u001b[39m\u001b[38;5;124m1.eps\u001b[39m\u001b[38;5;124m\"\u001b[39m, dpi\u001b[38;5;241m=\u001b[39m\u001b[38;5;241m400\u001b[39m)\n\u001b[1;32m     12\u001b[0m plt\u001b[38;5;241m.\u001b[39mshow()\n",
      "\u001b[0;31mAttributeError\u001b[0m: 'AxesSubplot' object has no attribute 'set_legend'"
     ]
    }
   ],
   "source": [
    "data['label'] = data['label'].astype(int).map({0:'normal', 1:'anomaly'})\n",
    "sns.set_style(\"whitegrid\", {'axes.grid' : False})\n",
    "plt.figure(figsize=(8, 6))\n",
    "ax = sns.boxplot(x=\"dataset\", y=\"score\", hue='label',\n",
    "                 data=data, linewidth=1.5)\n",
    "ax.set_xticklabels(['ACM', 'Cora', 'Pubmed', 'Arxiv'], fontsize = 12, fontweight='bold')\n",
    "ax.set_xlabel(\"Dataset\", fontsize = 15, fontweight='bold')\n",
    "ax.set_ylabel(\"MI\", fontsize = 15, fontweight='bold')\n",
    "plt.savefig(\"1.eps\", dpi=400)\n",
    "plt.show()"
   ]
  },
  {
   "cell_type": "code",
   "execution_count": null,
   "metadata": {},
   "outputs": [],
   "source": []
  }
 ]
}